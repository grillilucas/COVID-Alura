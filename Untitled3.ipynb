{
  "nbformat": 4,
  "nbformat_minor": 0,
  "metadata": {
    "colab": {
      "provenance": [],
      "authorship_tag": "ABX9TyMRqOlxon+ySL0Fuf1pnBWG",
      "include_colab_link": true
    },
    "kernelspec": {
      "name": "python3",
      "display_name": "Python 3"
    },
    "language_info": {
      "name": "python"
    }
  },
  "cells": [
    {
      "cell_type": "markdown",
      "metadata": {
        "id": "view-in-github",
        "colab_type": "text"
      },
      "source": [
        "<a href=\"https://colab.research.google.com/github/grillilucas/COVID-Alura/blob/main/Untitled3.ipynb\" target=\"_parent\"><img src=\"https://colab.research.google.com/assets/colab-badge.svg\" alt=\"Open In Colab\"/></a>"
      ]
    },
    {
      "cell_type": "code",
      "execution_count": 10,
      "metadata": {
        "colab": {
          "base_uri": "https://localhost:8080/"
        },
        "id": "BmznZL-zpdba",
        "outputId": "403ad057-3b5e-4fa4-8966-97004391cdf9"
      },
      "outputs": [
        {
          "output_type": "stream",
          "name": "stdout",
          "text": [
            "E-mail enviado com sucesso!\n"
          ]
        }
      ],
      "source": [
        "import smtplib\n",
        "from email.mime.text import MIMEText\n",
        "from email.mime.multipart import MIMEMultipart\n",
        "\n",
        "# Configurações do servidor SMTP do seu provedor de e-mail\n",
        "smtp_server = 'smtp.gmail.com'  # Substitua pelo servidor SMTP do seu provedor\n",
        "smtp_port = 587  # Porta para o servidor SMTP (587 é comum para TLS)\n",
        "\n",
        "# Suas credenciais de e-mail\n",
        "email_usuario = 'grillilucas@gmail.com'\n",
        "senha = 'inge@2023'\n",
        "\n",
        "# Criar uma mensagem de e-mail\n",
        "mensagem = MIMEMultipart()\n",
        "mensagem['From'] = 'grillilucas@gmail.com'\n",
        "mensagem['To'] = 'yuridebatista@gmail.com'  # E-mail do destinatário\n",
        "mensagem['Subject'] = 'Assunto do E-mail'\n",
        "\n",
        "# Corpo do e-mail\n",
        "corpo = 'Olá, este é um e-mail de teste enviado usando por Lucas em Python.'\n",
        "mensagem.attach(MIMEText(corpo, 'plain'))\n",
        "\n",
        "# Iniciar uma conexão SMTP segura\n",
        "try:\n",
        "    servidor = smtplib.SMTP(smtp_server, smtp_port)\n",
        "    servidor.starttls()  # Ativar TLS (opcional)\n",
        "    servidor.login('grillilucas@gmail.com', 'gots xvqg xkve qsmx')\n",
        "\n",
        "    # Enviar o e-mail\n",
        "    servidor.sendmail(email_usuario, 'grillilucas@gmail.com', mensagem.as_string())\n",
        "\n",
        "    # Fechar a conexão SMTP\n",
        "    servidor.quit()\n",
        "    print(\"E-mail enviado com sucesso!\")\n",
        "\n",
        "except Exception as e:\n",
        "    print(f\"Erro ao enviar o e-mail: {str(e)}\")\n"
      ]
    }
  ]
}